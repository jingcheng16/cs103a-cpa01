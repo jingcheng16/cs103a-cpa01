{
 "cells": [
  {
   "cell_type": "markdown",
   "id": "71bf8b81",
   "metadata": {},
   "source": [
    "# Covid Analysis"
   ]
  },
  {
   "cell_type": "markdown",
   "id": "fff5a2e2",
   "metadata": {},
   "source": [
    "\n",
    "    This is a dataset about covid.\n",
    "    I just used the instructor's dataset.\n",
    "    My two interesting questions:\n",
    "        1. is there a relationship between gpd and people vaccination rate?\n",
    "        2. Will covid have an impact on hospital admissions per million?\n",
    "\n",
    "\n"
   ]
  },
  {
   "cell_type": "code",
   "execution_count": null,
   "id": "38b43635",
   "metadata": {},
   "outputs": [],
   "source": [
    "import numpy as np\n",
    "import pandas as pd\n",
    "from matplotlib import pyplot as plt"
   ]
  },
  {
   "cell_type": "code",
   "execution_count": null,
   "id": "707cebfd",
   "metadata": {},
   "outputs": [],
   "source": [
    "df = pd.read_csv(\"owid-covid-data.csv\")\n",
    "df"
   ]
  },
  {
   "cell_type": "code",
   "execution_count": null,
   "id": "c10b63a7",
   "metadata": {},
   "outputs": [],
   "source": [
    "df.describe()"
   ]
  },
  {
   "cell_type": "markdown",
   "id": "b87b0ea8",
   "metadata": {},
   "source": [
    "### print the array of columns and the index array"
   ]
  },
  {
   "cell_type": "code",
   "execution_count": null,
   "id": "8d3924ac",
   "metadata": {},
   "outputs": [],
   "source": [
    "df.columns"
   ]
  },
  {
   "cell_type": "code",
   "execution_count": null,
   "id": "d4bb6617",
   "metadata": {},
   "outputs": [],
   "source": [
    "pd.Series(df.columns).array"
   ]
  },
  {
   "cell_type": "markdown",
   "id": "ed021462",
   "metadata": {},
   "source": [
    "### create some simple plot of part of the data"
   ]
  },
  {
   "cell_type": "code",
   "execution_count": null,
   "id": "fe65ca5c",
   "metadata": {},
   "outputs": [],
   "source": [
    "df2 = df[df['location'] == 'Russia']\n",
    "simple_plot = df2['total_deaths'].plot(title = \"Russia's total deaths\")\n",
    "simple_plot.set_xlabel(\"date\")\n",
    "simple_plot.set_ylabel(\"case\")"
   ]
  },
  {
   "cell_type": "markdown",
   "id": "77badd8c",
   "metadata": {},
   "source": [
    "### create a pivot table and plot some data from that pivot table"
   ]
  },
  {
   "cell_type": "code",
   "execution_count": null,
   "id": "36aa4c23",
   "metadata": {},
   "outputs": [],
   "source": [
    "df2 = pd.pivot_table(df, values = \"total_cases\", index = ['date'], columns = [\"continent\"])\n",
    "df2"
   ]
  },
  {
   "cell_type": "code",
   "execution_count": null,
   "id": "ed479aa2",
   "metadata": {},
   "outputs": [],
   "source": [
    "df2[[\"Europe\"]].plot()"
   ]
  },
  {
   "cell_type": "code",
   "execution_count": null,
   "id": "a024a00d",
   "metadata": {},
   "outputs": [],
   "source": [
    "df2[[\"Asia\"]].plot()"
   ]
  },
  {
   "cell_type": "markdown",
   "id": "284005cc",
   "metadata": {},
   "source": [
    "### use the groupby feature"
   ]
  },
  {
   "cell_type": "code",
   "execution_count": null,
   "id": "31785780",
   "metadata": {},
   "outputs": [],
   "source": [
    "df.groupby([\"continent\",\"location\"])[\"total_deaths\"].sum()"
   ]
  },
  {
   "cell_type": "markdown",
   "id": "c5fc256d",
   "metadata": {},
   "source": [
    "### create a discussion cell in which you discuss what your analysis tells you about the data"
   ]
  },
  {
   "cell_type": "markdown",
   "id": "ffe195c4",
   "metadata": {},
   "source": [
    "#### 1. is there a relationship between gpd and people vaccination rate?"
   ]
  },
  {
   "cell_type": "code",
   "execution_count": null,
   "id": "5dc40fcc",
   "metadata": {},
   "outputs": [],
   "source": [
    "df2 = df.groupby([\n",
    "    \"gdp_per_capita\"])[\"people_fully_vaccinated_per_hundred\"].agg(\"mean\")"
   ]
  },
  {
   "cell_type": "code",
   "execution_count": null,
   "id": "f9b6eb7a",
   "metadata": {},
   "outputs": [],
   "source": [
    "df2.plot()"
   ]
  },
  {
   "cell_type": "markdown",
   "id": "8d6201d4",
   "metadata": {},
   "source": [
    "There is a slightly positive relationship between gdp and vaccination rate"
   ]
  },
  {
   "cell_type": "markdown",
   "id": "c2591521",
   "metadata": {},
   "source": [
    "#### 2. Will covid have an impact on hospitall admissions per million?"
   ]
  },
  {
   "cell_type": "code",
   "execution_count": null,
   "id": "749df066",
   "metadata": {},
   "outputs": [],
   "source": [
    "df2 = pd.pivot_table(df, values=\"weekly_hosp_admissions_per_million\", index=[\"date\"], columns=[\"continent\"])"
   ]
  },
  {
   "cell_type": "code",
   "execution_count": null,
   "id": "6e5f7db1",
   "metadata": {},
   "outputs": [],
   "source": [
    "df2[\"Europe\"].plot()"
   ]
  },
  {
   "cell_type": "markdown",
   "id": "b06b5b12",
   "metadata": {},
   "source": [
    "Yes! The first half year in 2020 and the winter in 2021, we suffered from covid 19 and delta, so that there is not so much staff and bes in hospital to admit new patients"
   ]
  },
  {
   "cell_type": "code",
   "execution_count": null,
   "id": "e121e139",
   "metadata": {},
   "outputs": [],
   "source": []
  }
 ],
 "metadata": {
  "kernelspec": {
   "display_name": "Python 3 (ipykernel)",
   "language": "python",
   "name": "python3"
  },
  "language_info": {
   "codemirror_mode": {
    "name": "ipython",
    "version": 3
   },
   "file_extension": ".py",
   "mimetype": "text/x-python",
   "name": "python",
   "nbconvert_exporter": "python",
   "pygments_lexer": "ipython3",
   "version": "3.9.5"
  }
 },
 "nbformat": 4,
 "nbformat_minor": 5
}
